{
 "cells": [
  {
   "cell_type": "code",
   "execution_count": null,
   "id": "78762f92",
   "metadata": {},
   "outputs": [
    {
     "name": "stdout",
     "output_type": "stream",
     "text": [
      "Downloading LFS objects: 100% (4/4), 350 MB | 67 MB/s                           \r"
     ]
    }
   ],
   "source": [
    "!git lfs pull"
   ]
  },
  {
   "cell_type": "code",
   "execution_count": null,
   "id": "1df50f5c",
   "metadata": {},
   "outputs": [],
   "source": [
    "from helpers_UI import *"
   ]
  },
  {
   "cell_type": "code",
   "execution_count": null,
   "id": "2981ba8d",
   "metadata": {},
   "outputs": [],
   "source": [
    "%load_ext autoreload\n",
    "%autoreload 2"
   ]
  },
  {
   "cell_type": "markdown",
   "id": "2c5c0160",
   "metadata": {},
   "source": [
    "# Robust Journey Planning"
   ]
  },
  {
   "cell_type": "markdown",
   "id": "cc602512",
   "metadata": {},
   "source": [
    "Given a desired arrival time, the route planner will compute the fastest route between departure and arrival stops within a provided confidence tolerance.\n",
    "\n",
    "Run this file."
   ]
  },
  {
   "cell_type": "code",
   "execution_count": null,
   "id": "7f692ce2",
   "metadata": {},
   "outputs": [
    {
     "data": {
      "application/vnd.jupyter.widget-view+json": {
       "model_id": "d73700c73a0f49ce803ebf818f8a54b9",
       "version_major": 2,
       "version_minor": 0
      },
      "text/plain": [
       "Dropdown(description='Pick a day: ', options=('Monday', 'Tuesday', 'Wednesday', 'Thursday', 'Friday'), style=D…"
      ]
     },
     "metadata": {},
     "output_type": "display_data"
    },
    {
     "data": {
      "application/vnd.jupyter.widget-view+json": {
       "model_id": "a33bfc09b81c4da7bc217aa797fba5c9",
       "version_major": 2,
       "version_minor": 0
      },
      "text/plain": [
       "TimePicker(value=None, description='Pick an arrival time: ', max=datetime.time(23, 0), min=datetime.time(5, 0)…"
      ]
     },
     "metadata": {},
     "output_type": "display_data"
    },
    {
     "data": {
      "application/vnd.jupyter.widget-view+json": {
       "model_id": "1220cc2b263343eebc3f9f6b440efacf",
       "version_major": 2,
       "version_minor": 0
      },
      "text/plain": [
       "Combobox(value='', description='Departure location: ', ensure_option=True, options=('Zimmerberg-Basistunnel', …"
      ]
     },
     "metadata": {},
     "output_type": "display_data"
    },
    {
     "data": {
      "application/vnd.jupyter.widget-view+json": {
       "model_id": "f00c39880286426d828553bed3c616c9",
       "version_major": 2,
       "version_minor": 0
      },
      "text/plain": [
       "Combobox(value='', description='Arrival location: ', ensure_option=True, options=('Zimmerberg-Basistunnel', 'Z…"
      ]
     },
     "metadata": {},
     "output_type": "display_data"
    },
    {
     "data": {
      "application/vnd.jupyter.widget-view+json": {
       "model_id": "2f26016b90b540078dc537e36583af4b",
       "version_major": 2,
       "version_minor": 0
      },
      "text/plain": [
       "IntSlider(value=90, continuous_update=False, description='Confidence tolerance [%]: ', style=SliderStyle(descr…"
      ]
     },
     "metadata": {},
     "output_type": "display_data"
    },
    {
     "data": {
      "application/vnd.jupyter.widget-view+json": {
       "model_id": "d03ce5e962504af584e646aaa660fdd9",
       "version_major": 2,
       "version_minor": 0
      },
      "text/plain": [
       "Button(description='Search travel path', disabled=True, style=ButtonStyle())"
      ]
     },
     "metadata": {},
     "output_type": "display_data"
    },
    {
     "data": {
      "application/vnd.jupyter.widget-view+json": {
       "model_id": "d18d5c63515a45c0ac1f583f056047f5",
       "version_major": 2,
       "version_minor": 0
      },
      "text/plain": [
       "Output()"
      ]
     },
     "metadata": {},
     "output_type": "display_data"
    }
   ],
   "source": [
    "run()"
   ]
  }
 ],
 "metadata": {
  "kernelspec": {
   "display_name": "Python 3 (ipykernel)",
   "language": "python",
   "name": "python3"
  },
  "language_info": {
   "codemirror_mode": {
    "name": "ipython",
    "version": 3
   },
   "file_extension": ".py",
   "mimetype": "text/x-python",
   "name": "python",
   "nbconvert_exporter": "python",
   "pygments_lexer": "ipython3",
   "version": "3.9.12"
  }
 },
 "nbformat": 4,
 "nbformat_minor": 5
}
